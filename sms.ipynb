{
 "cells": [
  {
   "cell_type": "code",
   "execution_count": 2,
   "id": "59bf2e2b",
   "metadata": {},
   "outputs": [
    {
     "data": {
      "text/html": [
       "<div>\n",
       "<style scoped>\n",
       "    .dataframe tbody tr th:only-of-type {\n",
       "        vertical-align: middle;\n",
       "    }\n",
       "\n",
       "    .dataframe tbody tr th {\n",
       "        vertical-align: top;\n",
       "    }\n",
       "\n",
       "    .dataframe thead th {\n",
       "        text-align: right;\n",
       "    }\n",
       "</style>\n",
       "<table border=\"1\" class=\"dataframe\">\n",
       "  <thead>\n",
       "    <tr style=\"text-align: right;\">\n",
       "      <th></th>\n",
       "      <th>label</th>\n",
       "      <th>message</th>\n",
       "    </tr>\n",
       "  </thead>\n",
       "  <tbody>\n",
       "    <tr>\n",
       "      <th>0</th>\n",
       "      <td>0</td>\n",
       "      <td>Go until jurong point, crazy.. Available only ...</td>\n",
       "    </tr>\n",
       "    <tr>\n",
       "      <th>1</th>\n",
       "      <td>0</td>\n",
       "      <td>Ok lar... Joking wif u oni...</td>\n",
       "    </tr>\n",
       "    <tr>\n",
       "      <th>2</th>\n",
       "      <td>1</td>\n",
       "      <td>Free entry in 2 a wkly comp to win FA Cup fina...</td>\n",
       "    </tr>\n",
       "    <tr>\n",
       "      <th>3</th>\n",
       "      <td>0</td>\n",
       "      <td>U dun say so early hor... U c already then say...</td>\n",
       "    </tr>\n",
       "    <tr>\n",
       "      <th>4</th>\n",
       "      <td>0</td>\n",
       "      <td>Nah I don't think he goes to usf, he lives aro...</td>\n",
       "    </tr>\n",
       "  </tbody>\n",
       "</table>\n",
       "</div>"
      ],
      "text/plain": [
       "   label                                            message\n",
       "0      0  Go until jurong point, crazy.. Available only ...\n",
       "1      0                      Ok lar... Joking wif u oni...\n",
       "2      1  Free entry in 2 a wkly comp to win FA Cup fina...\n",
       "3      0  U dun say so early hor... U c already then say...\n",
       "4      0  Nah I don't think he goes to usf, he lives aro..."
      ]
     },
     "execution_count": 2,
     "metadata": {},
     "output_type": "execute_result"
    }
   ],
   "source": [
    "import pandas as pd\n",
    "\n",
    "df = pd.read_csv('spam_classify.csv' , encoding='latin-1')\n",
    "\n",
    "df = df[['v1', 'v2']]\n",
    "df.columns = ['label', 'message']\n",
    "df['label'] = df['label'].map({'ham': 0, 'spam': 1})\n",
    "df.head()"
   ]
  },
  {
   "cell_type": "code",
   "execution_count": 3,
   "id": "4f593f9d",
   "metadata": {},
   "outputs": [
    {
     "name": "stdout",
     "output_type": "stream",
     "text": [
      "(5572, 2)\n"
     ]
    },
    {
     "data": {
      "text/plain": [
       "label\n",
       "0    4825\n",
       "1     747\n",
       "Name: count, dtype: int64"
      ]
     },
     "execution_count": 3,
     "metadata": {},
     "output_type": "execute_result"
    }
   ],
   "source": [
    "print(df.shape)\n",
    "df['label'].value_counts()"
   ]
  },
  {
   "cell_type": "code",
   "execution_count": 4,
   "id": "36469b38",
   "metadata": {},
   "outputs": [
    {
     "name": "stdout",
     "output_type": "stream",
     "text": [
      "Training set size: (4457,)\n",
      "Testing set size: (1115,)\n"
     ]
    }
   ],
   "source": [
    "from sklearn.model_selection import train_test_split\n",
    "X = df['message']\n",
    "y = df['label']\n",
    "\n",
    "X_train, X_test, y_train, y_test = train_test_split(X, y, test_size=0.2, random_state=42)\n",
    "print(\"Training set size:\", X_train.shape)\n",
    "print(\"Testing set size:\", X_test.shape)"
   ]
  },
  {
   "cell_type": "code",
   "execution_count": 5,
   "id": "59fc1908",
   "metadata": {},
   "outputs": [
    {
     "name": "stderr",
     "output_type": "stream",
     "text": [
      "[nltk_data] Downloading package stopwords to\n",
      "[nltk_data]     C:\\Users\\ASUS\\AppData\\Roaming\\nltk_data...\n",
      "[nltk_data]   Package stopwords is already up-to-date!\n"
     ]
    },
    {
     "name": "stdout",
     "output_type": "stream",
     "text": [
      "Number of features (unique words): 8317\n",
      "Shape of training set: 4457 messages with 8317 features each\n"
     ]
    }
   ],
   "source": [
    "import re\n",
    "import string\n",
    "import nltk\n",
    "from nltk.corpus import stopwords\n",
    "\n",
    "# Download stopwords if not already downloaded\n",
    "nltk.download('stopwords')\n",
    "\n",
    "# Get the English stopwords set\n",
    "stop_words = set(stopwords.words('english'))\n",
    "\n",
    "# Define the stopwords removal function\n",
    "def stopwords_removal(text):\n",
    "    tokens = text.lower().split()  # simple whitespace tokenizer + lowercase\n",
    "    filtered_tokens = [word for word in tokens if word not in stop_words]\n",
    "    return ' '.join(filtered_tokens)\n",
    "\n",
    "\n",
    "def remove_punctuation(text):\n",
    "    translator = str.maketrans(\"\", \"\", string.punctuation)\n",
    "    return text.translate(translator)\n",
    "\n",
    "def preprocess_text(text):\n",
    "    # Remove HTML tags\n",
    "    text = re.sub(r'<.*?>', '', text)\n",
    "    text = remove_punctuation(text)\n",
    "    text = stopwords_removal(text)\n",
    "    # Convert to lowercase\n",
    "    text = text.lower()\n",
    "    tokens = text.split()\n",
    "    return tokens\n",
    "\n",
    "class CustomCountVectorizer:\n",
    "    def __init__(self):\n",
    "        self.vocab = {}\n",
    "\n",
    "    def fit(self,texts):\n",
    "        idx = 0\n",
    "        for text in texts:\n",
    "            tokens = preprocess_text(text)\n",
    "            for token in tokens:\n",
    "                if token not in self.vocab:\n",
    "                    self.vocab[token] = idx\n",
    "                    idx += 1\n",
    "        return self\n",
    "\n",
    "    def transform(self, texts):\n",
    "        vectors = []\n",
    "        for text in texts:\n",
    "            tokens = preprocess_text(text)   \n",
    "            vector = [0] * len(self.vocab)\n",
    "            for token in tokens:\n",
    "                if token in self.vocab:\n",
    "                    index = self.vocab[token]\n",
    "                    vector[index] += 1\n",
    "            vectors.append(vector)\n",
    "        return vectors\n",
    "    \n",
    "my_vectorizer = CustomCountVectorizer()\n",
    "my_vectorizer.fit(X_train)\n",
    "X_train_vec = my_vectorizer.transform(X_train)\n",
    "X_test_vec = my_vectorizer.transform(X_test)\n",
    "\n",
    "print(\"Number of features (unique words):\", len(my_vectorizer.vocab))\n",
    "print(\"Shape of training set:\", len(X_train_vec), \"messages with\", len(X_train_vec[0]), \"features each\")"
   ]
  },
  {
   "cell_type": "code",
   "execution_count": null,
   "id": "22fdcca4",
   "metadata": {},
   "outputs": [
    {
     "name": "stdout",
     "output_type": "stream",
     "text": [
      "Shape of training set: (4457, 8317)\n"
     ]
    }
   ],
   "source": [
    "print(\"Shape of training set:\", X_train_vec.shape)"
   ]
  },
  {
   "cell_type": "code",
   "execution_count": 16,
   "id": "b963f129",
   "metadata": {},
   "outputs": [
    {
     "name": "stdout",
     "output_type": "stream",
     "text": [
      "Accuracy: 0.9802690582959641\n",
      "              precision    recall  f1-score   support\n",
      "\n",
      "           0       0.98      1.00      0.99       965\n",
      "           1       0.97      0.88      0.92       150\n",
      "\n",
      "    accuracy                           0.98      1115\n",
      "   macro avg       0.98      0.94      0.96      1115\n",
      "weighted avg       0.98      0.98      0.98      1115\n",
      "\n"
     ]
    }
   ],
   "source": [
    "import numpy as np\n",
    "class CustomNaiveBayes:\n",
    "    def fit(self, X, y):\n",
    "        self.classes = np.unique(y)\n",
    "        self.class_counts = {}\n",
    "        self.feature_counts = {}\n",
    "        self.class_priors = {}\n",
    "\n",
    "        for c in self.classes:\n",
    "            X_c = X[y == c]\n",
    "            self.class_counts[c] = X_c.shape[0]\n",
    "            self.feature_counts[c] = np.sum(X_c, axis=0) + 1  # Laplace smoothing\n",
    "            self.class_priors[c] = X_c.shape[0] / X.shape[0]\n",
    "\n",
    "        self.feature_totals = {\n",
    "            c: np.sum(self.feature_counts[c]) for c in self.classes\n",
    "        }\n",
    "\n",
    "    def predict(self, X):\n",
    "        predictions = []\n",
    "        for x in X:\n",
    "            class_probs = {}\n",
    "            for c in self.classes:\n",
    "                log_prob = np.log(self.class_priors[c])\n",
    "                log_prob += np.sum(x * np.log(self.feature_counts[c] / self.feature_totals[c]))\n",
    "                class_probs[c] = log_prob\n",
    "            predictions.append(max(class_probs, key=class_probs.get))\n",
    "        return np.array(predictions)\n",
    "\n",
    "model = CustomNaiveBayes()\n",
    "model.fit(X_train_vec, y_train)\n",
    "\n",
    "# Predict on test set\n",
    "predictions = model.predict(X_test_vec)\n",
    "\n",
    "# Evaluate\n",
    "from sklearn.metrics import accuracy_score, classification_report\n",
    "\n",
    "print(\"Accuracy:\", accuracy_score(y_test, predictions))\n",
    "print(classification_report(y_test, predictions))"
   ]
  },
  {
   "cell_type": "code",
   "execution_count": 21,
   "id": "2b0d4375",
   "metadata": {},
   "outputs": [
    {
     "name": "stdout",
     "output_type": "stream",
     "text": [
      "Spam\n",
      "Ham\n"
     ]
    }
   ],
   "source": [
    "test_message_spam = [\"you have won a lottery! Click here to claim your prize.\"]\n",
    "test_message_ham = [\"You schlorarship application has been received. We will get back to you soon.\"]\n",
    "\n",
    "# Vectorize it using your custom vectorizer\n",
    "test_vec_spam = my_vectorizer.transform(test_message_spam)\n",
    "test_vec_ham = my_vectorizer.transform(test_message_ham)\n",
    "\n",
    "\n",
    "# Predict using your trained classifier\n",
    "prediction_spam = model.predict(test_vec_spam)\n",
    "prediction_ham = model.predict(test_vec_ham)\n",
    "\n",
    "# Check the result\n",
    "print(\"Spam\" if prediction_spam[0] == 1 else \"Ham\")\n",
    "print(\"Spam\" if prediction_ham[0] == 1 else \"Ham\")\n"
   ]
  },
  {
   "cell_type": "code",
   "execution_count": 19,
   "id": "d84a3003",
   "metadata": {},
   "outputs": [
    {
     "name": "stdout",
     "output_type": "stream",
     "text": [
      "MultinomialNB Results:\n",
      "              precision    recall  f1-score   support\n",
      "\n",
      "           0       0.98      1.00      0.99       965\n",
      "           1       0.97      0.88      0.92       150\n",
      "\n",
      "    accuracy                           0.98      1115\n",
      "   macro avg       0.98      0.94      0.96      1115\n",
      "weighted avg       0.98      0.98      0.98      1115\n",
      "\n",
      "BernoulliNB Results:\n",
      "              precision    recall  f1-score   support\n",
      "\n",
      "           0       0.97      1.00      0.98       965\n",
      "           1       0.99      0.77      0.87       150\n",
      "\n",
      "    accuracy                           0.97      1115\n",
      "   macro avg       0.98      0.89      0.93      1115\n",
      "weighted avg       0.97      0.97      0.97      1115\n",
      "\n",
      "GaussianNB Results:\n",
      "              precision    recall  f1-score   support\n",
      "\n",
      "           0       0.99      0.89      0.93       965\n",
      "           1       0.55      0.91      0.69       150\n",
      "\n",
      "    accuracy                           0.89      1115\n",
      "   macro avg       0.77      0.90      0.81      1115\n",
      "weighted avg       0.93      0.89      0.90      1115\n",
      "\n"
     ]
    }
   ],
   "source": [
    "from sklearn.naive_bayes import MultinomialNB, BernoulliNB, GaussianNB\n",
    "from sklearn.metrics import accuracy_score, classification_report\n",
    "\n",
    "# Convert custom vectors to numpy arrays\n",
    "import numpy as np\n",
    "X_train_vec_np = np.array(X_train_vec)\n",
    "X_test_vec_np = np.array(X_test_vec)\n",
    "\n",
    "# Multinomial Naive Bayes\n",
    "mnb = MultinomialNB()\n",
    "mnb.fit(X_train_vec_np, y_train)\n",
    "mnb_pred = mnb.predict(X_test_vec_np)\n",
    "\n",
    "print(\"MultinomialNB Results:\")\n",
    "print(classification_report(y_test, mnb_pred))\n",
    "\n",
    "# Bernoulli Naive Bayes\n",
    "bnb = BernoulliNB()\n",
    "bnb.fit(X_train_vec_np, y_train)\n",
    "bnb_pred = bnb.predict(X_test_vec_np)\n",
    "\n",
    "print(\"BernoulliNB Results:\")\n",
    "print(classification_report(y_test, bnb_pred))\n",
    "\n",
    "# Gaussian Naive Bayes\n",
    "gnb = GaussianNB()\n",
    "gnb.fit(X_train_vec_np, y_train)\n",
    "gnb_pred = gnb.predict(X_test_vec_np)\n",
    "\n",
    "print(\"GaussianNB Results:\")\n",
    "print(classification_report(y_test, gnb_pred))\n"
   ]
  }
 ],
 "metadata": {
  "kernelspec": {
   "display_name": "Python 3",
   "language": "python",
   "name": "python3"
  },
  "language_info": {
   "codemirror_mode": {
    "name": "ipython",
    "version": 3
   },
   "file_extension": ".py",
   "mimetype": "text/x-python",
   "name": "python",
   "nbconvert_exporter": "python",
   "pygments_lexer": "ipython3",
   "version": "3.12.7"
  }
 },
 "nbformat": 4,
 "nbformat_minor": 5
}
